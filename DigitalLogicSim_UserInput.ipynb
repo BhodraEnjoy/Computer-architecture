{
 "cells": [
  {
   "cell_type": "markdown",
   "metadata": {},
   "source": [
    "\n",
    "# Digital Logic Components Simulation (User Input Friendly)"
   ]
  },
  {
   "cell_type": "code",
   "execution_count": 4,
   "metadata": {},
   "outputs": [],
   "source": [
    "# Utility Functions\n",
    "def get_binary_input(n):\n",
    "    return [int(b) for b in input(f\"Enter {n}-bit binary number (e.g., 1010): \")[-n:].zfill(n)][::-1]"
   ]
  },
  {
   "cell_type": "markdown",
   "metadata": {},
   "source": [
    "## 1. Half Adder (User Input)"
   ]
  },
  {
   "cell_type": "code",
   "execution_count": 8,
   "metadata": {},
   "outputs": [
    {
     "name": "stdout",
     "output_type": "stream",
     "text": [
      "Half Adder - A: 1, B: 1 => Sum: 0, Carry: 1\n"
     ]
    },
    {
     "data": {
      "text/plain": [
       "(0, 1)"
      ]
     },
     "execution_count": 8,
     "metadata": {},
     "output_type": "execute_result"
    }
   ],
   "source": [
    "def half_adder(A, B):\n",
    "    Sum = A ^ B\n",
    "    Carry = A & B\n",
    "    print(f\"Half Adder - A: {A}, B: {B} => Sum: {Sum}, Carry: {Carry}\")\n",
    "    return Sum, Carry\n",
    "\n",
    "A = int(input(\"Enter A (0 or 1): \\n\"))\n",
    "B = int(input(\"Enter B (0 or 1): \\n\"))\n",
    "half_adder(A, B)"
   ]
  },
  {
   "cell_type": "markdown",
   "metadata": {},
   "source": [
    "## 2. Full Adder (User Input)"
   ]
  },
  {
   "cell_type": "code",
   "execution_count": 9,
   "metadata": {},
   "outputs": [
    {
     "name": "stdout",
     "output_type": "stream",
     "text": [
      "Half Adder - A: 1, B: 1 => Sum: 0, Carry: 1\n",
      "Half Adder - A: 0, B: 1 => Sum: 1, Carry: 0\n",
      "Full Adder - A: 1, B: 1, Cin: 1 => Sum: 1, Carry: 1\n"
     ]
    },
    {
     "data": {
      "text/plain": [
       "(1, 1)"
      ]
     },
     "execution_count": 9,
     "metadata": {},
     "output_type": "execute_result"
    }
   ],
   "source": [
    "def full_adder(A, B, Cin):\n",
    "    sum1, carry1 = half_adder(A, B)\n",
    "    Sum, carry2 = half_adder(sum1, Cin)\n",
    "    Carry = carry1 | carry2\n",
    "    print(f\"Full Adder - A: {A}, B: {B}, Cin: {Cin} => Sum: {Sum}, Carry: {Carry}\")\n",
    "    return Sum, Carry\n",
    "\n",
    "Cin = int(input(\"Enter Carry-in (0 or 1): \\n\"))\n",
    "full_adder(A, B, Cin)"
   ]
  },
  {
   "cell_type": "markdown",
   "metadata": {},
   "source": [
    "## 3. 4-bit Binary Adder (User Input)"
   ]
  },
  {
   "cell_type": "code",
   "execution_count": 10,
   "metadata": {},
   "outputs": [
    {
     "name": "stdout",
     "output_type": "stream",
     "text": [
      "Adding: [0, 0, 0, 1] + [0, 0, 0, 1]\n",
      "Half Adder - A: 1, B: 1 => Sum: 0, Carry: 1\n",
      "Half Adder - A: 0, B: 0 => Sum: 0, Carry: 0\n",
      "Full Adder - A: 1, B: 1, Cin: 0 => Sum: 0, Carry: 1\n",
      "Half Adder - A: 0, B: 0 => Sum: 0, Carry: 0\n",
      "Half Adder - A: 0, B: 1 => Sum: 1, Carry: 0\n",
      "Full Adder - A: 0, B: 0, Cin: 1 => Sum: 1, Carry: 0\n",
      "Half Adder - A: 0, B: 0 => Sum: 0, Carry: 0\n",
      "Half Adder - A: 0, B: 0 => Sum: 0, Carry: 0\n",
      "Full Adder - A: 0, B: 0, Cin: 0 => Sum: 0, Carry: 0\n",
      "Half Adder - A: 0, B: 0 => Sum: 0, Carry: 0\n",
      "Half Adder - A: 0, B: 0 => Sum: 0, Carry: 0\n",
      "Full Adder - A: 0, B: 0, Cin: 0 => Sum: 0, Carry: 0\n",
      "Result: [0, 0, 0, 1, 0]\n"
     ]
    },
    {
     "data": {
      "text/plain": [
       "[0, 0, 0, 1, 0]"
      ]
     },
     "execution_count": 10,
     "metadata": {},
     "output_type": "execute_result"
    }
   ],
   "source": [
    "def binary_adder4(A, B):\n",
    "    result = []\n",
    "    carry = 0\n",
    "    print(f\"Adding: {A[::-1]} + {B[::-1]}\")\n",
    "    for i in range(4):\n",
    "        Sum, carry = full_adder(A[i], B[i], carry)\n",
    "        result.append(Sum)\n",
    "    result.append(carry)\n",
    "    print(f\"Result: {result[::-1]}\")\n",
    "    return result[::-1]\n",
    "\n",
    "A = get_binary_input(4)\n",
    "B = get_binary_input(4)\n",
    "binary_adder4(A, B)"
   ]
  },
  {
   "cell_type": "markdown",
   "metadata": {},
   "source": [
    "## 4. D Flip-Flop (User Input)"
   ]
  },
  {
   "cell_type": "code",
   "execution_count": 11,
   "metadata": {},
   "outputs": [
    {
     "name": "stdout",
     "output_type": "stream",
     "text": [
      "D Flip-Flop - D: 1, clk: 1 => Q: 1\n"
     ]
    },
    {
     "data": {
      "text/plain": [
       "1"
      ]
     },
     "execution_count": 11,
     "metadata": {},
     "output_type": "execute_result"
    }
   ],
   "source": [
    "class DFlipFlop:\n",
    "    def __init__(self):\n",
    "        self.Q = 0\n",
    "        self.prev_clk = 0\n",
    "\n",
    "    def update(self, D, clk):\n",
    "        if clk == 1 and self.prev_clk == 0:\n",
    "            self.Q = D\n",
    "        self.prev_clk = clk\n",
    "        print(f\"D Flip-Flop - D: {D}, clk: {clk} => Q: {self.Q}\")\n",
    "        return self.Q\n",
    "\n",
    "dff = DFlipFlop()\n",
    "D = int(input(\"Enter D (0 or 1): \\n\"))\n",
    "clk = int(input(\"Enter clk (0 or 1): \\n\"))\n",
    "dff.update(D, clk)"
   ]
  },
  {
   "cell_type": "markdown",
   "metadata": {},
   "source": [
    "## 5. 4-bit Binary Counter (With Reset)"
   ]
  },
  {
   "cell_type": "code",
   "execution_count": 15,
   "metadata": {},
   "outputs": [
    {
     "name": "stdout",
     "output_type": "stream",
     "text": [
      "Counter: 0001\n",
      "Counter: 0010\n",
      "Counter: 0011\n",
      "Counter Reset\n"
     ]
    }
   ],
   "source": [
    "class BinaryCounter4:\n",
    "    def __init__(self):\n",
    "        self.count = 0\n",
    "\n",
    "    def increment(self):\n",
    "        self.count = (self.count + 1) % 16\n",
    "        print(f\"Counter: {self.count:04b}\")\n",
    "        return [int(x) for x in f\"{self.count:04b}\"]\n",
    "\n",
    "    def reset(self):\n",
    "        self.count = 0\n",
    "        print(\"Counter Reset\")\n",
    "\n",
    "counter = BinaryCounter4()\n",
    "for _ in range(3):\n",
    "    counter.increment()\n",
    "counter.reset()"
   ]
  },
  {
   "cell_type": "markdown",
   "metadata": {},
   "source": [
    "## 6. Shift Register (With Reset)"
   ]
  },
  {
   "cell_type": "code",
   "execution_count": 16,
   "metadata": {},
   "outputs": [
    {
     "name": "stdout",
     "output_type": "stream",
     "text": [
      "Shift Left:  [0, 0, 0, 1]\n",
      "Shift Right: [0, 0, 0, 0]\n",
      "Shift Register Reset\n"
     ]
    }
   ],
   "source": [
    "class ShiftRegister4:\n",
    "    def __init__(self):\n",
    "        self.register = [0, 0, 0, 0]\n",
    "\n",
    "    def shift_left(self, bit):\n",
    "        self.register = self.register[1:] + [bit]\n",
    "        print(\"Shift Left: \", self.register)\n",
    "\n",
    "    def shift_right(self, bit):\n",
    "        self.register = [bit] + self.register[:-1]\n",
    "        print(\"Shift Right:\" ,self.register)\n",
    "\n",
    "    def reset(self):\n",
    "        self.register = [0, 0, 0, 0]\n",
    "        print(\"Shift Register Reset\")\n",
    "\n",
    "sr = ShiftRegister4()\n",
    "sr.shift_left(1)\n",
    "sr.shift_right(0)\n",
    "sr.reset()"
   ]
  }
 ],
 "metadata": {
  "kernelspec": {
   "display_name": "Python 3",
   "language": "python",
   "name": "python3"
  },
  "language_info": {
   "codemirror_mode": {
    "name": "ipython",
    "version": 3
   },
   "file_extension": ".py",
   "mimetype": "text/x-python",
   "name": "python",
   "nbconvert_exporter": "python",
   "pygments_lexer": "ipython3",
   "version": "3.13.1"
  }
 },
 "nbformat": 4,
 "nbformat_minor": 2
}
